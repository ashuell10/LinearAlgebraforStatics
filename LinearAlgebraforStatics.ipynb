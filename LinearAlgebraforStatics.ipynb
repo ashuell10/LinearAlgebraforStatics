{
 "cells": [
  {
   "cell_type": "markdown",
   "metadata": {},
   "source": [
    "Welcome to LinearAlgebraforStatics!\n",
    "==============================\n",
    "\n",
    "This is a basic notebook to learn how to use linear algebra in the real world and in statics, and python to solve statics problems. After, you can use the notebook to solve any linear system.\n",
    "\n",
    "First, lets look at some examples of how we can use matrices in the real world and in statics:\n",
    "\n",
    "In the real world, especially in engineering, we will encounter circuit diagrams. From *Advanced Engineering Mathematics* (Kreyszig), we have one with 3 unknown currents. Matrices come in handy here because once we write the appropriate Kirchoff's Laws equations for the unknowns, then we can solve them via matrices.\n",
    "<img src=\"RWex.jpg\" alt=\"Real World Example\">\n",
    "\n",
    "In statics, we can use them when we are solving structures using the joints method. From *Engineering Mechanics: Statics* (Meriam et. al.), here is a more life like problem on a signboard where we are asked to find the force in members BE and BC when the horizontal wind load is 712 lb. Specifically that 5/8 of the force is transmitted to the center connection at C and the rest is equally divided between D and B. In this example to use matrices, we would go through joints D, C and E and write down each force equation with the appropriate unknowns.\n",
    "<img src=\"Statics.jpg\" alt=\"Statics Example\">\n",
    "\n",
    "Next, lets learn about matrices and how they can represent linear systems.\n",
    "\n",
    "**Linear Systems with Matrices**\n",
    "-------------------------------------\n",
    "To learn about matrices with linear systems, lets look at the circuit diagram example. First, we will learn about matrices in general.\n",
    "\n",
    "Linear Systems must be in this form to solve:  \n",
    "$ x - y + z = 0 $  \n",
    "$ -x + y - z = 0 $  \n",
    "$ 10y + 25z = 90 $  \n",
    "$ 20x + 10y = 80 $  \n",
    "\n",
    "Matrices are collection of numbers that are arranged in arrays, like tables. They are helpful, besides making systems easier to solve, because they can take large amounts of information and represent it in a concise way. Matrices look like numbers in a rectangle format enclosed by brackets. Lets look at a couple of examples:\n",
    "\n",
    "$$\\begin{bmatrix} 1 & -1 & 1 & 0 \\\\ -1 & 1 & -1 & 0 \\\\ 0 & 10 & 25 & 90 \\\\ 20 & 10 & 0 & 80 \\end{bmatrix}$$\n",
    "\n",
    "$$\\begin{bmatrix} 1 & -1 & 1 \\\\ -1 & 1 & -1 \\\\ 0 & 10 & 25 \\\\ 20 & 10 & 0 \\end{bmatrix}$$\n",
    "\n",
    "$$\\begin{bmatrix} 1 & -1 & 1 \\\\ -1 & 1 & -1 \\\\ 0 & 10 & 25 \\end{bmatrix}$$\n",
    "\n",
    "$$\\begin{bmatrix} 0 \\\\ 0 \\\\ 90 \\\\ 80 \\end{bmatrix}$$\n",
    "\n",
    "The first matrix is called an **augmented matrices**. Augmented Matrices are most commonly used to represent linear systems. Augmented Matrices contain the coefficients of the variables for each equation in relation to its variable name and what the equations are equal to. In this program, we will use augmented, rectangular and square matrices. Notice that the format are equations that are solely variable and constants with addition and subtraction operators in front of them. The augmented matrix of the above linear system is:\n",
    "\n",
    "The second matrix is a **rectangular matrix** and a **coefficient matrix** of size 4 by 3 (rows by columns). It is called rectangular because it is in the form of a rectangle and it is called a coefficient matrix because it only represents the coefficients of the linear system. The third matrix has size 3x3 and therefore is in a form of a square, so we call it a **square matrix**. The fourth matrix is a special kind of matrix called a **vector matrix** because it has a singular row (can also have a singular column).\n",
    "\n",
    "Here is an example of how matrices will look printed from the library we will use in Python (more on that later):"
   ]
  },
  {
   "cell_type": "code",
   "execution_count": 2,
   "metadata": {},
   "outputs": [
    {
     "name": "stdout",
     "output_type": "stream",
     "text": [
      "[[ 1 -1  1  0]\n",
      " [-1  1 -1  0]\n",
      " [ 0 10 25 90]\n",
      " [20 10  0 80]]\n"
     ]
    }
   ],
   "source": [
    "import numpy as np\n",
    "\n",
    "print(np.array([[1, -1, 1, 0], [-1, 1, -1, 0], [0, 10, 25, 90], [20, 10, 0, 80]]))"
   ]
  },
  {
   "cell_type": "markdown",
   "metadata": {},
   "source": [
    "Next, lets write Kirchoff's laws equations to the problem. When you write out the laws, you could have something like this:\n",
    "\n",
    "$ i_1 - i_2 + i_3 = 0 $  \n",
    "$ -i_1 + i_2 - i_3 = 0 $  \n",
    "$ 10i_2 + 25i_3 = 90V $  \n",
    "$ 20i_1 + 10i_2 = 80V $\n",
    "\n",
    "You will notice it it the same as the example given above with $i_1$ as x, $i_2$ as y, $i_3$ as z. This is the system we will continue to solve.\n",
    "\n",
    "Now, we are ready to type our matrix into the code.\n",
    "\n",
    "**The Code**\n",
    "---------------\n",
    "\n",
    "In the cell below is all we need to solve linear systems. Let's go through the code line by line.\n",
    "\n",
    "`import numpy as np`: This is called an import statement. Python comes with a certain range of knowledge which we can extend by importing libraries. numpy is a well known library to do scientific computing. We import it `as np` basically to give it an alias, so in code we do not have to keep typing out numpy in its entirety.\n",
    "\n",
    "`cofmat = np.array([])`  \n",
    "`vecmat = np.array([])`: These statements are called assignment statements. In python, we also initialize variables in assignment statements. Here, we are setting each of our variables `cofmat` and `vecmat` to numpy \"styled\" arrays. `np.array([])` will `return` an array that will be written by the used. The basic format for these dot operations is the library the method comes from and then the method you would like to access (`library.method()`). You will see an example later in the code where the method is buried deeper in multiple library and a routine.\n",
    "\n",
    "`print(cofmat)`  \n",
    "`print(vecmat)`: These are called print statements. After you enter your arrays, these statements so you can see your arrays in the format you saw above. These are added for ease.\n",
    "\n",
    "`sol = np.linalg.lstsq(cofmat, vecmat)`  \n",
    "`print(sol[0])`  \n",
    "`print(Done)`: Again, we have another assignment statement. You will see we will access the numpy library again and use a method from the routine linalg called lstsq. This stands for the least squares method and an example of a method buried in a routine from a library. The general syntax looks like this `library.routine.method()`. This method returns a list (in a form of a `type` `list` in python) of useful data. For our purposes, the answer to the system is put in the first entry of the list. We print and access it on the next line. In lists and arrays we count each object starting at 0, which is why we have `sol[0]` written. Finally, we print `Done` to indicate to the user that the program is done.\n",
    "\n",
    "To use this program, we must type our system in as 2 matrices, a coefficient matrix and a matrix for the  constants (a vector matrix). All we have to do is enter each row of the respective matrix as its own list into the array. So, for our example (printed below for convenience) we will type in this:\n",
    "\n",
    "$ x - y + z = 0 $  \n",
    "$ -x + y - z = 0 $  \n",
    "$ 10y + 25z = 90 $  \n",
    "$ 20x + 10y = 80 $\n",
    "\n",
    "```\n",
    "cofmat = np.array([[1, -1, 1], [-1, 1, -1], [0, 10, 25], [20, 10, 0]])\n",
    "vecmat = np.array([0, 0 , 90, 80])\n",
    "```\n",
    "\n",
    "The answer to this matrix is  \n",
    "[ 2.  4.  2.]\n",
    " \n",
    "or $x = 2A$, $y = 4A$, $z = 2A$.\n",
    "\n",
    "Try entering it yourself!"
   ]
  },
  {
   "cell_type": "code",
   "execution_count": 1,
   "metadata": {
    "collapsed": true
   },
   "outputs": [
    {
     "name": "stdout",
     "output_type": "stream",
     "text": [
      "[]\n",
      "[]\n"
     ]
    },
    {
     "ename": "LinAlgError",
     "evalue": "1-dimensional array given. Array must be two-dimensional",
     "output_type": "error",
     "traceback": [
      "\u001b[0;31m---------------------------------------------------------------------------\u001b[0m",
      "\u001b[0;31mLinAlgError\u001b[0m                               Traceback (most recent call last)",
      "\u001b[0;32m<ipython-input-1-d54812139cac>\u001b[0m in \u001b[0;36m<module>\u001b[0;34m()\u001b[0m\n\u001b[1;32m      7\u001b[0m \u001b[0mprint\u001b[0m\u001b[0;34m(\u001b[0m\u001b[0mvecmat\u001b[0m\u001b[0;34m)\u001b[0m\u001b[0;34m\u001b[0m\u001b[0;34m\u001b[0m\u001b[0m\n\u001b[1;32m      8\u001b[0m \u001b[0;34m\u001b[0m\u001b[0m\n\u001b[0;32m----> 9\u001b[0;31m \u001b[0msol\u001b[0m \u001b[0;34m=\u001b[0m \u001b[0mnp\u001b[0m\u001b[0;34m.\u001b[0m\u001b[0mlinalg\u001b[0m\u001b[0;34m.\u001b[0m\u001b[0mlstsq\u001b[0m\u001b[0;34m(\u001b[0m\u001b[0mcofmat\u001b[0m\u001b[0;34m,\u001b[0m \u001b[0mvecmat\u001b[0m\u001b[0;34m)\u001b[0m\u001b[0;34m\u001b[0m\u001b[0;34m\u001b[0m\u001b[0m\n\u001b[0m\u001b[1;32m     10\u001b[0m \u001b[0mprint\u001b[0m\u001b[0;34m(\u001b[0m\u001b[0msol\u001b[0m\u001b[0;34m[\u001b[0m\u001b[0;36m0\u001b[0m\u001b[0;34m]\u001b[0m\u001b[0;34m)\u001b[0m\u001b[0;34m\u001b[0m\u001b[0;34m\u001b[0m\u001b[0m\n\u001b[1;32m     11\u001b[0m \u001b[0mprint\u001b[0m\u001b[0;34m(\u001b[0m\u001b[0;34m\"Done\"\u001b[0m\u001b[0;34m)\u001b[0m\u001b[0;34m\u001b[0m\u001b[0;34m\u001b[0m\u001b[0m\n",
      "\u001b[0;32m/usr/lib/python3/dist-packages/numpy/linalg/linalg.py\u001b[0m in \u001b[0;36mlstsq\u001b[0;34m(a, b, rcond)\u001b[0m\n\u001b[1;32m   1901\u001b[0m     \u001b[0;32mif\u001b[0m \u001b[0mis_1d\u001b[0m\u001b[0;34m:\u001b[0m\u001b[0;34m\u001b[0m\u001b[0;34m\u001b[0m\u001b[0m\n\u001b[1;32m   1902\u001b[0m         \u001b[0mb\u001b[0m \u001b[0;34m=\u001b[0m \u001b[0mb\u001b[0m\u001b[0;34m[\u001b[0m\u001b[0;34m:\u001b[0m\u001b[0;34m,\u001b[0m \u001b[0mnewaxis\u001b[0m\u001b[0;34m]\u001b[0m\u001b[0;34m\u001b[0m\u001b[0;34m\u001b[0m\u001b[0m\n\u001b[0;32m-> 1903\u001b[0;31m     \u001b[0m_assertRank2\u001b[0m\u001b[0;34m(\u001b[0m\u001b[0ma\u001b[0m\u001b[0;34m,\u001b[0m \u001b[0mb\u001b[0m\u001b[0;34m)\u001b[0m\u001b[0;34m\u001b[0m\u001b[0;34m\u001b[0m\u001b[0m\n\u001b[0m\u001b[1;32m   1904\u001b[0m     \u001b[0m_assertNoEmpty2d\u001b[0m\u001b[0;34m(\u001b[0m\u001b[0ma\u001b[0m\u001b[0;34m,\u001b[0m \u001b[0mb\u001b[0m\u001b[0;34m)\u001b[0m  \u001b[0;31m# TODO: relax this constraint\u001b[0m\u001b[0;34m\u001b[0m\u001b[0;34m\u001b[0m\u001b[0m\n\u001b[1;32m   1905\u001b[0m     \u001b[0mm\u001b[0m  \u001b[0;34m=\u001b[0m \u001b[0ma\u001b[0m\u001b[0;34m.\u001b[0m\u001b[0mshape\u001b[0m\u001b[0;34m[\u001b[0m\u001b[0;36m0\u001b[0m\u001b[0;34m]\u001b[0m\u001b[0;34m\u001b[0m\u001b[0;34m\u001b[0m\u001b[0m\n",
      "\u001b[0;32m/usr/lib/python3/dist-packages/numpy/linalg/linalg.py\u001b[0m in \u001b[0;36m_assertRank2\u001b[0;34m(*arrays)\u001b[0m\n\u001b[1;32m    194\u001b[0m         \u001b[0;32mif\u001b[0m \u001b[0ma\u001b[0m\u001b[0;34m.\u001b[0m\u001b[0mndim\u001b[0m \u001b[0;34m!=\u001b[0m \u001b[0;36m2\u001b[0m\u001b[0;34m:\u001b[0m\u001b[0;34m\u001b[0m\u001b[0;34m\u001b[0m\u001b[0m\n\u001b[1;32m    195\u001b[0m             raise LinAlgError('%d-dimensional array given. Array must be '\n\u001b[0;32m--> 196\u001b[0;31m                     'two-dimensional' % a.ndim)\n\u001b[0m\u001b[1;32m    197\u001b[0m \u001b[0;34m\u001b[0m\u001b[0m\n\u001b[1;32m    198\u001b[0m \u001b[0;32mdef\u001b[0m \u001b[0m_assertRankAtLeast2\u001b[0m\u001b[0;34m(\u001b[0m\u001b[0;34m*\u001b[0m\u001b[0marrays\u001b[0m\u001b[0;34m)\u001b[0m\u001b[0;34m:\u001b[0m\u001b[0;34m\u001b[0m\u001b[0;34m\u001b[0m\u001b[0m\n",
      "\u001b[0;31mLinAlgError\u001b[0m: 1-dimensional array given. Array must be two-dimensional"
     ]
    }
   ],
   "source": [
    "import numpy as np\n",
    "\n",
    "cofmat = np.array([])\n",
    "vecmat = np.array([])\n",
    "\n",
    "print(cofmat)\n",
    "print(vecmat)\n",
    "\n",
    "sol = np.linalg.lstsq(cofmat, vecmat)\n",
    "print(sol[0])\n",
    "print(\"Done\")"
   ]
  },
  {
   "cell_type": "markdown",
   "metadata": {},
   "source": [
    "Now, lets try our statics example in the above cell.\n",
    "\n",
    "Here is the problem again:\n",
    "Here is a signboard where we would like to find the force in members BE and BC when the horizontal wind load is 712 lb. Specifically that 5/8 of the force is transmitted to the center connection at C and the rest is equally divided between D and B.\n",
    "<img src=\"Staticsex.jpg\" alt=\"Statics Example\">\n",
    "\n",
    "Instead of solving each joint explicitly, we can leave them unsolved and put them in a system. First, solve for the $D_x$ and $C_x$. There are some forces that you can solve very simply (they are the only force in a certain direction) and I put in their values explicitly (CE = 445 T).\n",
    "\n",
    "From joint D, you should get the equations:  \n",
    "$ 133.5 = .4961DE $  \n",
    "$ 0 = .8682DE - CD $\n",
    "\n",
    "From joint C, you should get the equation:  \n",
    "$ 0 = CD - BC $\n",
    "\n",
    "&ast; From this joint you also will find CE = 445 T\n",
    "\n",
    "From joint E, you should get the equations:\n",
    "$ 0 = .8682DE + .8682DE - .8682EF $  \n",
    "$ 445 = -.4961DE + .4961BE + .4961EF $\n",
    "\n",
    "Remember when you enter your equations into a matrix to order your variables and place 0's where necessary. Making $ a = DE, b = CD, c = BC, d = BE $ and $ e = EF $ (letters chosen for order), here are matrices for cofmat and vecmat:\n",
    "\n",
    "Cofmat:  \n",
    "```\n",
    "[[.4961, 0, 0, 0, 0]\n",
    " [.8682, -1, 0, 0 ,0]\n",
    " [0, 1, -1, 0, 0]\n",
    " [.8682, 0, 0, .8682, -.8682]\n",
    " [-.4961, 0, 0, .4961, .4961]]\n",
    "```\n",
    "Vecmat:  \n",
    "```\n",
    "[133.5, 0, 0 , 0, 445]\n",
    "```\n",
    "\n",
    "If you have all your forces in the correct direction, here is the answer:  \n",
    "[ 269.09897198  233.63172747  233.63172747  448.49828664  717.59725862] with $D_x$ = 133.5lb, $C_x$ = 445lb $ CE = 445lb $\n",
    "\n",
    "or $ DE = 269.0989lb, CD = 233.6317lb, BC = 233.6317lb, BE = 448.4983lb, EF = 717.5972lb, D_x = 133.5lb, C_x = 445lb and CE = 445lb $  \n",
    "&ast; Remember, a negative answer indicated that you put the member in its opposite state (tension vs. compression).\n",
    "\n",
    "Try it for yourself!\n",
    "\n",
    "Now, you are free to use this program with any problem!"
   ]
  },
  {
   "cell_type": "markdown",
   "metadata": {},
   "source": [
    "References:\n",
    "------------------\n",
    "    KREYSZIG ERWIN et. al. “Linear Algebra: Matrices, Vectors, Determinants. Linear Systems.” ADVANCED ENGINEERING MATHEMATICS, 10, John Wiley & Sons, Inc, 2011, 256-282. School of Aeronautics (Neemrana), https://soaneemrana.org/onewebmedia/ADVANCED%20ENGINEERING%20MATHEMATICS%20BY%20ERWIN%20ERESZIG1.pdf"
   ]
  },
  {
   "cell_type": "code",
   "execution_count": null,
   "metadata": {},
   "outputs": [],
   "source": []
  }
 ],
 "metadata": {
  "kernelspec": {
   "display_name": "Python 3",
   "language": "python",
   "name": "python3"
  },
  "language_info": {
   "codemirror_mode": {
    "name": "ipython",
    "version": 3
   },
   "file_extension": ".py",
   "mimetype": "text/x-python",
   "name": "python",
   "nbconvert_exporter": "python",
   "pygments_lexer": "ipython3",
   "version": "3.6.8"
  }
 },
 "nbformat": 4,
 "nbformat_minor": 2
}
