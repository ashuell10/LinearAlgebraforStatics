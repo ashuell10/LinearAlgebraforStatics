{
 "cells": [
  {
   "cell_type": "markdown",
   "metadata": {},
   "source": [
    "Welcome to LinearAlgebraforStatics!\n",
    "==============================\n",
    "This is a notebook to learn how to use linear algebra<sup>3</sup> to help solve common problems you see in physics and statics. Linear algebra is a branch of mathematics that allows us to think about linear equations in different ways and is helpful to us, as a physicists and engineers because we can solve for many unknowns at one time through matrices.\n",
    "\n",
    "**Linear Systems with Matrices**\n",
    "---------------------------------------\n",
    "Matrices are a tool in linear algebra that can be used to represent and manipulate systems of linear equations (linear systems). Matrices are collection of numbers that are arranged in arrays, like tables in a rectangle format enclosed by brackets. Specifically, we will use matrices to represent and solve linear systems.\n",
    "\n",
    "Linear Systems must be in this form to solve:  \n",
    "$ x - y + z = 0 $  \n",
    "$ -x + y - z = 0 $  \n",
    "$ 10y + 25z = 90 $  \n",
    "$ 20x + 10y = 80 $  \n",
    "\n",
    "&ast; Notice that the equations are organized with variables with their **coefficients on one side and constants on the other**. Coefficients are the numbers that come before the variables that multiply that variables, for example $10$ in $10y$ and $25$ in $25z$.\n",
    "\n",
    "Let's look at this system represented in a couple of different kinds of matrices:\n",
    "\n",
    "$$\\begin{bmatrix} 1 & -1 & 1 & 0 \\\\ -1 & 1 & -1 & 0 \\\\ 0 & 10 & 25 & 90 \\\\ 20 & 10 & 0 & 80 \\end{bmatrix}$$\n",
    "\n",
    "This first matrix is called an augmented matrix. Augmented matrices contain the **coefficients of the variables for each variable and what the expressions are equal to (the constants)**. The rows hold each equation and columns hold each coefficient. So, the first equation's coefficients and constant ($ x - y + z = 0 $) are held in the first row ($1, -1, 1, 0$). Additionally, you will notice that the first column holds the x coefficient, the second the y coefficient, and the third the z coefficient and this format is continued for the entirety of the matrix. Further note that the third row begins with a 0 because there is no x variable in that equation. The rows are concluded by a 0, 0 and 90, the constants the expressions are equal to. It is standard that the last column (the right most column) holds the constants.\n",
    "\n",
    "$$\\begin{bmatrix} 1 & -1 & 1 \\\\ -1 & 1 & -1 \\\\ 0 & 10 & 25 \\\\ 20 & 10 & 0 \\end{bmatrix}$$\n",
    "\n",
    "This second matrix is a coefficient matrix of size 4 by 3 (rows by columns). A coefficient matrix is a matrix that **solely holds the coefficients of the variables in the equation**. Notice that the rows hold each equation and columns hold each coefficient again. We also can categorize this matrix by its shape and call it a rectangular matrix.\n",
    "\n",
    "$$\\begin{bmatrix} 0 \\\\ 0 \\\\ 90 \\\\ 80 \\end{bmatrix}$$\n",
    "\n",
    "The third matrix is a special kind of matrix called a vector. We call the matrix a vector because it has a singular row (also can have a singular column instead). Notice that **this matrix is all of the constants separated off the augmented matrix shown earlier**. We will use this technique in our coding as well and will call them \"constant\" vectors for the purposes of this tutorial.\n",
    "\n",
    "In this program, we will solely use coefficient matrices and constant vectors because that is what the code requires.\n",
    "\n",
    "Lastly, here is an example of how matrices will look like in Python:  \n",
    "```\n",
    "[[1, -1, 1 , 0], [-1, 1, -1, 0], [0, 10, 25, 90], [20, 10, 0, 80]]\n",
    "```\n",
    "Each row is confined in brackets `[]` and each row is separated from another row by a comma. The whole matrix is enclosed by its own brackets `[]`. Brackets in python denotes a list or an array. When there is a list or array inside of another list or array it is called a nested list or a nested array (or 2D array). For coding purposes, we will simply call them arrays. We will be entering matrices by this method in our program.\n",
    "\n",
    "Now, let's learn about the code for the program.\n",
    "\n",
    "**The Code**\n",
    "-------------------\n",
    "We will go through the code line by line so you get basic terminology and understand how the program is structured."
   ]
  },
  {
   "cell_type": "code",
   "execution_count": 21,
   "metadata": {},
   "outputs": [],
   "source": [
    "#Takes coefficient and \"constant\" matrices from a linear system and solves it via the numpy library.\n",
    "\n",
    "#Takes programmer input for the coefficients and constants and saves them to variables to use in the matrix\n",
    "#itself. The programmer will then write the coefficients and constants into the correct order in their\n",
    "#respective order in a regular array which will be \"transformed\" the into numpy arrays by the numpy library.\n",
    "\n",
    "#Finally, it uses the lstsq method from the linalg routine from the numpy library to solve the system. The\n",
    "#program prints each matrix, the answer and Done when the program executes."
   ]
  },
  {
   "cell_type": "markdown",
   "metadata": {},
   "source": [
    "This collection of lines are all one line comments. Comments are code that is not read by the computer and is solely for the programmer to make a remark about the code. This comment is placed here to help us remember what the program does. This is a good habit to have as a programmer especially when you have a longer program. You will see this in line with code in the rest of the program."
   ]
  },
  {
   "cell_type": "code",
   "execution_count": null,
   "metadata": {},
   "outputs": [],
   "source": [
    "import numpy as np    #import numpy and call it np"
   ]
  },
  {
   "cell_type": "markdown",
   "metadata": {},
   "source": [
    "This is called an import statement. Python comes with a certain range of knowledge which we can extend by importing libraries. Libraries are a collection of knowledge that we can reference so we do not need to code it ourselves. Libraries are a way that we can share knowledge with other coders. Numpy is a well known library to do scientific computing. We import it `as np` to give it an alias, so in code we do not have to keep typing out numpy in its entirety. After the code, we have another comment. The purpose of \"in line\" comments is to help remind us of what this specific statement will do. This is a good habit to have as a programmer especially when you have a larger program.."
   ]
  },
  {
   "cell_type": "code",
   "execution_count": null,
   "metadata": {},
   "outputs": [],
   "source": [
    "#Your coefficients here"
   ]
  },
  {
   "cell_type": "markdown",
   "metadata": {},
   "source": [
    "This is where you will place your coefficients. For example, when you have to have to enter a value that is the sine or cosine of something then you can use the numpy library to calculate it for you in code. We will show you how to write these kind of statements called assignment statements. We have an example in the next section of code."
   ]
  },
  {
   "cell_type": "code",
   "execution_count": null,
   "metadata": {},
   "outputs": [],
   "source": [
    "coemat = np.array([])    #create numpy arrays from input for coefficients\n",
    "vecmat = np.array([])    #and constants"
   ]
  },
  {
   "cell_type": "markdown",
   "metadata": {},
   "source": [
    "These statements are called assignment statements. In Python, we also initialize variables in assignment statements. Here, we are setting each of our variables `coemat` and `vecmat` to numpy \"styled\" arrays. `np.array([])` will `return` an array that will be written by the user. The basic format for these dot operations is the library and then the routine you would like to access (`library.routine()`). So, in the numpy (np) library there is a routine that creates an array, specifically for this routine from an (existing) array that you will learn how to write."
   ]
  },
  {
   "cell_type": "code",
   "execution_count": 2,
   "metadata": {},
   "outputs": [],
   "source": [
    "print(\"Coemat:\")\n",
    "print(coemat)      #print coefficient matrix\n",
    "print(\"Vecmat:\")\n",
    "print(vecmat)      #and constants vector"
   ]
  },
  {
   "cell_type": "markdown",
   "metadata": {},
   "source": [
    "These are called print statements. The print function comes preinstalled with Python and prints something to the output device (the screen). A function is a collection of code that does something. You will notice that inside of the parentheses you have the pieces of text or in techincal terms strings `\"Coemat:\"` and `\"Vecmat:` and the variables coemat and vecmat inside. These conditions inside of parentheses of a function (or a method later defined) are called parameters. Parameters are passed in and can be used inside of the function. So, the print function takes in the parameters you gave it (`\"Coemat:\"`, `\"Vecmat:`, coemat and vecmat) and prints them to the screen. These statements are printed for the user's ease."
   ]
  },
  {
   "cell_type": "code",
   "execution_count": null,
   "metadata": {},
   "outputs": [],
   "source": [
    "sol = np.linalg.lstsq(coemat, vecmat, rcond=None)    #use numpy to solve system\n",
    "print(\"The answer is:\")\n",
    "print(sol[0])                                        #print the answer to the system\n",
    "print(\"Done\")                                        #indicates to the user that the program is done"
   ]
  },
  {
   "cell_type": "markdown",
   "metadata": {},
   "source": [
    "The first line is another example of an assignment statement. You will see we access the numpy library again and use a method from linalg called lstsq. This stands for the least squares method and an example of a method buried in a routine from a library. A method is a collection of code that is stored in class. Classes define, in code, a certain kind of object and methods make changes to or accesses that kind of object. So, we will use the numpy library's routine called linalg to make changes to it by the lstsq method on the object of class numpy array. The general syntax is `library.routine.method()`. This method takes many parameters, including the coefficient matrix (coemat) and the constant matrix (vecmat). This method also takes a number of other parameters which are set to None automatically. We provided an example of this above when we set `rcond=None`. None in Python is like `null` in other programming languages. This method `return`s or outputs an array of useful data. For our purposes, the answer to the system is put in the first entry of the list. We access and print it on the next line by `sol[0]`. In lists and arrays we count each object starting at 0, which is why we have `sol[0]` written. So, we print to the screen `\"The answer is:\"`, `sol[0]` and `Done`."
   ]
  },
  {
   "cell_type": "markdown",
   "metadata": {},
   "source": [
    "Now we know about matrices and the code, lets look at a familiar example to get us acquainted with the code and entering matrices."
   ]
  },
  {
   "cell_type": "markdown",
   "metadata": {},
   "source": [
    "Example 1 - Physics:\n",
    "----------------\n",
    "Let's look at an example of a problem<sup>1</sup> from Workshop Physics I. We will walk you through this first problem and show you how to use the program first:\n",
    "<img src=\"ex1physics.jpg\" alt=\"Physics Example 1\">\n",
    "\n",
    "*Purpose:* The purpose of this problem is to find the acceleration of the system (a) and the tension in the string between block A and block B ($T_1$) and in the string between block B and block C ($T_2$).\n",
    "\n",
    "*Given:* We are given the tension in string being pulled on ($T_3 = 65N$) and the mass of each block ($m_A = 12kg$, $m_B = 24kg$, $m_C = 31kg$). We are also told that the floor is horizontal which means it is level and that the floor is frictionless.\n",
    "\n",
    "*Assumptions:* Some things we need to assume that the strings are connected in the center of the blocks to prevent them from tipping over and that the strings will not break or come loose from the blocks. We also assume that the net force in the y direction is 0.\n",
    "\n",
    "*Solution:* First, we will set up the equations and then we will explain how to enter it into the program. To do this problem, we need to look at the forces on each mass separately and write force equations for each mass in the horizontal direction (which we will call the x direction with positive point to the right). We only need to talk about the forces in the x direction because we are interested in how much the blocks accelerate in the x direction and the tension forces are solely in the x direction.\n",
    "\n",
    "Block A:  \n",
    "Since block A is on the end, in the x direction in its Free Body Diagram (FBD) the block only has the tension force going to the right. We write this force equation:  \n",
    "$(m_A)a = T_1$\n",
    "\n",
    "Block B:  \n",
    "Since block B is in the middle of 2 blocks, in the x direction of its FBD there will be 2 tension forces going to the left and the right. The force going to the left is $T_1$ and the force going to the right is $T_2$. We write this force equation:  \n",
    "$(m_B)a = T_2 - T_1$\n",
    "\n",
    "Block C:  \n",
    "Since block C is also in the middle of 2 blocks, it will have the same FBD with 2 tension forces going to the left and the right. The force going to the left is $T_2$ and the force going to the right is $T_3$. We write this force equation:  \n",
    "$(m_C)a = T_3 - T_2$\n",
    "\n",
    "Now, we have a system of  \n",
    "$(m_A)a = T_1$  \n",
    "$(m_B)a = T_2 - T_1$  \n",
    "$(m_C)a = T_3 - T_2$   \n",
    "\n",
    "Next, we need to enter the knowns into our systems and rearrange them to we have variables on one side and constants on the other. Here is what we are left with:\n",
    "$12a - T_1 = 0$  \n",
    "$24a + T_1 - T_2 = 0$  \n",
    "$31a + T_2 = 65$\n",
    "\n",
    "Now, we need to enter the knowns as variables in our code. We have done this in a snapshot of the program below under the \"Your coefficients here\" comment:"
   ]
  },
  {
   "cell_type": "code",
   "execution_count": 31,
   "metadata": {},
   "outputs": [],
   "source": [
    "#...\n",
    "\n",
    "import numpy as np    #import numpy and call it np\n",
    "\n",
    "#Your coefficients here\n",
    "m_A = 12 #kg\n",
    "m_B = 24 #kg\n",
    "m_C = 31 #kg\n",
    "T_3 = 65 #N\n",
    "\n",
    "#..."
   ]
  },
  {
   "cell_type": "markdown",
   "metadata": {},
   "source": [
    "Notice that we have entered the units of the knowns as well. This is helpful if we need to reference our code at a later date.\n",
    "\n",
    "Next, we must enter the coefficients and constants in the correct format into the coemat and vecmat assignment statements. We will enter the coefficients for $a$ in the first column, the coefficients for $T_1$ in the second column and the coefficients for $T_2$ in the third column. We only saved the coefficients in the code if the value was given so remember to place ones or negative ones in the other places the variables show up. See the code below for how do this. Remember the rules in constructing a matrix found above in the Linear Systems with Matrices section."
   ]
  },
  {
   "cell_type": "code",
   "execution_count": 32,
   "metadata": {},
   "outputs": [
    {
     "name": "stdout",
     "output_type": "stream",
     "text": [
      "Coemat:\n",
      "[[12 -1  0]\n",
      " [24  1 -1]\n",
      " [31  0  1]]\n",
      "Vecmat:\n",
      "[[ 0]\n",
      " [ 0]\n",
      " [65]]\n"
     ]
    }
   ],
   "source": [
    "#...\n",
    "\n",
    "import numpy as np    #import numpy and call it np\n",
    "\n",
    "#Your coefficients here\n",
    "m_A = 12 #kg\n",
    "m_B = 24 #kg\n",
    "m_C = 31 #kg\n",
    "T_3 = 65 #N\n",
    "\n",
    "coemat = np.array([[m_A, -1, 0], [m_B, 1, -1], [m_C, 0, 1]])  #create numpy arrays from input for coefficients\n",
    "vecmat = np.array([[0], [0], [T_3]])                          #and constants\n",
    "\n",
    "print(\"Coemat:\")\n",
    "print(coemat)      #print coefficient matrix\n",
    "print(\"Vecmat:\")\n",
    "print(vecmat)      #and constants vector\n",
    "\n",
    "#..."
   ]
  },
  {
   "cell_type": "markdown",
   "metadata": {},
   "source": [
    "Now, we have entered all the needed information to solve the system. See the answer in the code below."
   ]
  },
  {
   "cell_type": "code",
   "execution_count": 33,
   "metadata": {},
   "outputs": [
    {
     "name": "stdout",
     "output_type": "stream",
     "text": [
      "Coemat:\n",
      "[[12 -1  0]\n",
      " [24  1 -1]\n",
      " [31  0  1]]\n",
      "Vecmat:\n",
      "[[ 0]\n",
      " [ 0]\n",
      " [65]]\n",
      "The answer is:\n",
      "[[ 0.97014925]\n",
      " [11.64179104]\n",
      " [34.92537313]]\n",
      "Done\n"
     ]
    }
   ],
   "source": [
    "#Takes coefficient and \"constant\" matrices from a linear system and solves it via the numpy library.\n",
    "\n",
    "#Takes programmer input for the coefficients and constants and saves them to variables to use in the matrix\n",
    "#itself. The programmer will then write the coefficients and constants into the correct order in their\n",
    "#respective order in a regular array which will be \"transformed\" the into numpy arrays by the numpy library.\n",
    "\n",
    "#Finally, it uses the lstsq method from the linalg routine from the numpy library to solve the system. The\n",
    "#program prints each matrix, the answer and Done when the program executes.\n",
    "\n",
    "import numpy as np    #import numpy and call it np\n",
    "\n",
    "#Your coefficients here\n",
    "m_A = 12 #kg\n",
    "m_B = 24 #kg\n",
    "m_C = 31 #kg\n",
    "T_3 = 65 #N\n",
    "\n",
    "coemat = np.array([[m_A, -1, 0], [m_B, 1, -1], [m_C, 0, 1]])  #create numpy arrays from input for coefficients\n",
    "vecmat = np.array([[0], [0], [T_3]])                          #and constants\n",
    "\n",
    "print(\"Coemat:\")\n",
    "print(coemat)      #print coefficient matrix\n",
    "print(\"Vecmat:\")\n",
    "print(vecmat)      #and constants vector\n",
    "\n",
    "sol = np.linalg.lstsq(coemat, vecmat, rcond=None)    #use numpy to solve system\n",
    "print(\"The answer is:\")\n",
    "print(sol[0])                                        #print the answer to the system\n",
    "print(\"Done\")                                        #indicates to the user that the program is done"
   ]
  },
  {
   "cell_type": "markdown",
   "metadata": {},
   "source": [
    "Notice that the answer is printed in the format of an array. The answers to each variable are printed in the order of the columns of coefficient so $a = 0.97014925m/s^2$, $T_1 = 11.64179104N$, and $T_2 = 34.92537313N$"
   ]
  },
  {
   "cell_type": "markdown",
   "metadata": {},
   "source": [
    "Example 3 - Statics:\n",
    "----------------\n",
    "\n",
    "*Purpose:*\n",
    "\n",
    "*Given:*\n",
    "\n",
    "*Assumptions:*\n",
    "\n",
    "*Solutions:*\n",
    "\n",
    "In statics, one way we can use matrices when we are solving for forces in a structures using the joints method, which you will learn about in more detail later in the year. From *Engineering Mechanics: Statics*, here is problem<sup>2</sup> about a signboard where we are asked to find the force in members BE and BC when the horizontal wind load is 712 lb. Specifically 5/8 of the force is transmitted to the center connection at C and the rest is equally divided between D and B.\n",
    "<img src=\"Statics.jpg\" alt=\"Statics Example\" width=1000>\n",
    "\n",
    "For learning purposes, let's go through this problem so you can start seeing the process to solve structures by the joints method. You do not need to know how to do these problems yet, but we can practice entering their values into the program.\n",
    "\n",
    "Instead of solving each joint explicitly like you will be taught to do, we can leave the equations unsolved and put the equations in a system which decreases the amount of equations we must solve. First though, we can solve for the $D_x$ and $C_x$ since we are given their values in relation to the full force. We find that $D_x = 133.5lb$, and $C_x = 445lb$. There are also some forces that you can solve very simply (they are the only countering force in a certain direction) and I put in their values explicitly below.\n",
    "\n",
    "From joint D, you get the equations:  \n",
    "$ 133.5 = .4961DE $  \n",
    "$ 0 = .8682DE - CD $\n",
    "\n",
    "From joint C, you get the equation:  \n",
    "$ 0 = CD - BC $\n",
    "\n",
    "&ast; From this joint you also will find CE = 445 T (T symbolizes that the member is in tension)\n",
    "\n",
    "From joint E, you get the equations:  \n",
    "$ 0 = .8682DE + .8682DE - .8682EF $  \n",
    "$ 445 = -.4961DE + .4961BE + .4961EF $\n",
    "\n",
    "&ast; $ .4961 = sin(29.7449) $ or $ cos(60.2551) $ and $ .8682 = cos(29.7449) $ or $ sin(60.2551) $\n",
    "\n",
    "Remember when you enter your equations into a matrix to order your variables and place 0's where necessary. With the member variables in the order DE, CD, BC, BE and EF, here are the coefficient matrix and constant vector:\n",
    "\n",
    "Coefficient matrix:  \n",
    "```\n",
    "[[.4961, 0, 0, 0, 0]\n",
    " [.8682, -1, 0, 0 ,0]\n",
    " [0, 1, -1, 0, 0]\n",
    " [.8682, 0, 0, .8682, -.8682]\n",
    " [-.4961, 0, 0, .4961, .4961]]\n",
    "```\n",
    "Constant vector:  \n",
    "```\n",
    "[[133.5],\n",
    " [0],\n",
    " [0],\n",
    " [0],\n",
    " [445]]\n",
    "```\n",
    "\n",
    "Here is the program again with the last example's matrix entered. Change it so it will solve this example."
   ]
  },
  {
   "cell_type": "code",
   "execution_count": 25,
   "metadata": {},
   "outputs": [],
   "source": [
    "#Takes coefficient and \"constant\" matrices from a linear system and solves it via the numpy library.\n",
    "\n",
    "#Takes programmer input for the coefficients and constants and saves them to variables to use in the matrix\n",
    "#itself. The programmer will then write the coefficients and constants into the correct order in their\n",
    "#respective order in a regular array which will be \"transformed\" the into numpy arrays by the numpy library.\n",
    "\n",
    "#Finally, it uses the lstsq method from the linalg routine from the numpy library to solve the system. The\n",
    "#program prints each matrix, the answer and Done when the program executes.\n",
    "\n",
    "import numpy as np    #import numpy and call it np\n",
    "\n",
    "#Your coefficients here\n",
    "\n",
    "coemat = np.array([])    #create numpy arrays from input for coefficients\n",
    "vecmat = np.array([])   #and constants\n",
    "\n",
    "# print(coemat)    #print coefficient matrix\n",
    "# print(vecmat)    #and constants vector\n",
    "\n",
    "# sol = np.linalg.lstsq(coemat, vecmat, rcond=None)    #use numpy to solve system\n",
    "# print(sol[0])                                        #return the answer to the system\n",
    "# print(\"Done\")                                        #indicates to the user that the program is done"
   ]
  },
  {
   "cell_type": "markdown",
   "metadata": {},
   "source": [
    "Here is what you should get for the answer:  \n",
    "```\n",
    "[[269.09897198],\n",
    " [233.63172747],\n",
    " [233.63172747],\n",
    " [448.49828664],\n",
    " [717.59725862]]\n",
    "```\n",
    "\n",
    "or $ DE = 269.0989lb, CD = 233.6317lb, BC = 233.6317lb, BE = 448.4983lb, EF = 717.5972lb, D_x = 133.5lb, C_x = 445lb $ and $ CE = 445lb $\n",
    "\n",
    "Now, here is an example that you can do on your own. You can check to make sure you entered the matrix right by doing it on paper yourself.  \n",
    "  \n",
    "References:\n",
    "------------------\n",
    "<sup>1</sup>Cummings, K. *Understanding Physics 2015 F/PacificU* (15th ed., Wiley, 2015)\n",
    "    \n",
    "<sup>2</sup>Meriam, J. L., et al. *Engineering Mechanics: Statics*. (9th ed., Wiley, 2018).\n",
    "\n",
    "<sup>3</sup>Kreyszig, E., et. al. *Advanced Engineering Mathematics*, 10th ed., John Wiley & Sons, Inc, 2011, p. 256."
   ]
  },
  {
   "cell_type": "code",
   "execution_count": 9,
   "metadata": {},
   "outputs": [
    {
     "name": "stdout",
     "output_type": "stream",
     "text": [
      "[[ 0  0  0  1]\n",
      " [ 0  0  1 -1]\n",
      " [ 0  1 -1  0]\n",
      " [ 1 -1  0  0]]\n",
      "[[1.23]\n",
      " [1.23]\n",
      " [1.23]\n",
      " [1.23]]\n",
      "[[4.92]\n",
      " [3.69]\n",
      " [2.46]\n",
      " [1.23]]\n",
      "Done\n"
     ]
    }
   ],
   "source": [
    "\"\"\"\n",
    "Old Code\n",
    "\"\"\"\n",
    "import numpy as np\n",
    "\n",
    "coemat = np.array([[0, 0, 0, 1], [0, 0, 1, -1], [0, 1, -1, 0], [1, -1, 0 ,0]])\n",
    "vecmat = np.array([[1.23], [1.23], [1.23], [1.23]])\n",
    "\n",
    "print(coemat)\n",
    "print(vecmat)\n",
    "\n",
    "sol = np.linalg.lstsq(coemat, vecmat, rcond=None)\n",
    "print(sol[0])\n",
    "print(\"Done\")"
   ]
  },
  {
   "cell_type": "code",
   "execution_count": null,
   "metadata": {},
   "outputs": [],
   "source": []
  }
 ],
 "metadata": {
  "kernelspec": {
   "display_name": "Python 3",
   "language": "python",
   "name": "python3"
  },
  "language_info": {
   "codemirror_mode": {
    "name": "ipython",
    "version": 3
   },
   "file_extension": ".py",
   "mimetype": "text/x-python",
   "name": "python",
   "nbconvert_exporter": "python",
   "pygments_lexer": "ipython3",
   "version": "3.5.2"
  }
 },
 "nbformat": 4,
 "nbformat_minor": 2
}
