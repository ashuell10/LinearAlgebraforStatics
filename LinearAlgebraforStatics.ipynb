{
 "cells": [
  {
   "cell_type": "markdown",
   "metadata": {},
   "source": [
    "Welcome to LinearAlgebraforStatics!\n",
    "==============================\n",
    "This is a notebook to learn how to use linear algebra<sup>3</sup> to help solve common problems you see in physics and statics. Linear algebra is a branch of mathematics that allows us to think about linear equations in different ways and is helpful to us, as a physicists and engineers because we can solve for many unknowns at one time through matrices.\n",
    "\n",
    "**Linear Systems with Matrices**\n",
    "---------------------------------------\n",
    "Matrices are a tool in linear algebra that can be used to represent and manipulate systems of linear equations (linear systems). Matrices are collection of numbers that are arranged in arrays, like tables in a rectangle format enclosed by brackets. Specifically, we will use matrices to represent and solve linear systems.\n",
    "\n",
    "Linear Systems must be in this form to solve:  \n",
    "$ x - y + z = 0 $  \n",
    "$ -x + y - z = 0 $  \n",
    "$ 10y + 25z = 90 $  \n",
    "$ 20x + 10y = 80 $  \n",
    "\n",
    "&ast; Notice that the equations are organized with variables with their **coefficients on one side and constants on the other**. Coefficients are the numbers that come before the variables that multiply that variables, for example $10$ in $10y$ and $25$ in $25z$.\n",
    "\n",
    "Let's look at this system represented in a couple of different kinds of matrices:\n",
    "\n",
    "$$\\begin{bmatrix} 1 & -1 & 1 & 0 \\\\ -1 & 1 & -1 & 0 \\\\ 0 & 10 & 25 & 90 \\\\ 20 & 10 & 0 & 80 \\end{bmatrix}$$\n",
    "\n",
    "This first matrix is called an augmented matrix. Augmented matrices contain the **coefficients of the variables for each variable and what the expressions are equal to (constants)**. The rows hold each equation and columns hold each coefficient. So, the first equation's coefficients and constant ($ x - y + z = 0 $) are held in the first row ($1, -1, 1, 0$). Additionally, you will notice that the first column holds the x coefficient, the second the y coefficient, and the third the z coefficient and this format is continued for the entirety of the matrix. Further note that the third row begins with a 0 because there is no x variable in that equation. The rows are concluded by a 0, 0 and 90, the constants the expressions are equal to. It is standard that the last column (the right most column) holds the constants.\n",
    "\n",
    "$$\\begin{bmatrix} 1 & -1 & 1 \\\\ -1 & 1 & -1 \\\\ 0 & 10 & 25 \\\\ 20 & 10 & 0 \\end{bmatrix}$$\n",
    "\n",
    "This second matrix is a coefficient matrix of size 4 by 3 (rows by columns). A coefficient matrix is a matrix that **solely holds the coefficients of the variables in the equation**. We also can categorize this matrix by its shape and call it a rectangular matrix.\n",
    "\n",
    "$$\\begin{bmatrix} 0 \\\\ 0 \\\\ 90 \\\\ 80 \\end{bmatrix}$$\n",
    "\n",
    "The third matrix is a special kind of matrix called a vector. We call the matrix a vector because it has a singular row (also can have a singular column instead). Note that **this matrix is all of the constants separated off the augmented matrix shown earlier**, but in general does not have to be. We will use this technique in our coding as well and will call them \"constant\" vectors for the purposes of this tutorial.\n",
    "\n",
    "In this program, we will use coefficient matrices and constant vectors because that is what the code requires.\n",
    "\n",
    "Lastly, here is an example of how matrices will look printed from the library we will use in Python:  \n",
    "```\n",
    "[[ 1 -1  1  0]\n",
    " [-1  1 -1  0]\n",
    " [ 0 10 25 90]\n",
    " [20 10  0 80]]\n",
    " ```\n",
    "Now, let's learn about the code.\n",
    "\n",
    "**The Code**\n",
    "-------------------\n",
    "We will go through the code line by line so you get basic terminology and understand how the program is structured."
   ]
  },
  {
   "cell_type": "code",
   "execution_count": null,
   "metadata": {},
   "outputs": [],
   "source": [
    "\"\"\"\n",
    "\n",
    "\"\"\""
   ]
  },
  {
   "cell_type": "markdown",
   "metadata": {},
   "source": [
    "This is called documentation."
   ]
  },
  {
   "cell_type": "code",
   "execution_count": null,
   "metadata": {},
   "outputs": [],
   "source": [
    "import numpy as np    #import numpy and call it np"
   ]
  },
  {
   "cell_type": "markdown",
   "metadata": {},
   "source": [
    "This is called an import statement. Python comes with a certain range of knowledge which we can extend by importing libraries. Libraries are a collection of knowledge that we can reference so we do not need to code it ourselves. Libraries are a way that we can share knowledge with other coders. Numpy is a well known library to do scientific computing. We import it `as np` to give it an alias, so in code we do not have to keep typing out numpy in its entirety."
   ]
  },
  {
   "cell_type": "code",
   "execution_count": null,
   "metadata": {},
   "outputs": [],
   "source": [
    "#Your coefficients here"
   ]
  },
  {
   "cell_type": "markdown",
   "metadata": {},
   "source": [
    "This is where you will place your coefficients. You can use numpy to calculate sin and cosine and you can save them in code."
   ]
  },
  {
   "cell_type": "code",
   "execution_count": null,
   "metadata": {},
   "outputs": [],
   "source": [
    "coemat = np.array([])    #create numpy arrays from input for coefficients\n",
    "vecmat = np.array([])   #and constants"
   ]
  },
  {
   "cell_type": "markdown",
   "metadata": {},
   "source": [
    "These statements are called assignment statements. In Python, we also initialize variables in assignment statements. Here, we are setting each of our variables `coemat` and `vecmat` to numpy \"styled\" arrays. `np.array([])` will `return` an array that will be written by the user. The basic format for these dot operations is the library and then the routine you would like to access (`library.routine()`). So, in the numpy (np) library there is a routine that creates an array, specifically for this routine from an (existing) array that you will learn how to write."
   ]
  },
  {
   "cell_type": "code",
   "execution_count": null,
   "metadata": {},
   "outputs": [],
   "source": [
    "print(coemat)    #print coefficient matrix\n",
    "print(vecmat)    #and constants vector"
   ]
  },
  {
   "cell_type": "markdown",
   "metadata": {},
   "source": [
    "These are called print statements. The Print function comes preinstalled with Python and prints something to the output device (the screen). A function is a collection of code that does something. You will notice that inside of the parentheses you have the variables coemat and vecmat inside. These conditions inside of parentheses of a function (or a method later defined) are called parameters. Parameters are passed in and can be used inside of the function. You can even learn later to write your own functions. After you enter your arrays, these statements are printed so you can see your arrays in the format you saw above. These are added for user ease."
   ]
  },
  {
   "cell_type": "code",
   "execution_count": null,
   "metadata": {},
   "outputs": [],
   "source": [
    "sol = np.linalg.lstsq(coemat, vecmat, rcond=None)    #use numpy to solve system\n",
    "print(sol[0])                                        #return the answer to the system"
   ]
  },
  {
   "cell_type": "markdown",
   "metadata": {},
   "source": [
    "The first line is another example of an assignment statement. You will see we access the numpy library again and use a method from linalg called lstsq. This stands for the least squares method and an example of a method buried in a routine from a library. A method is a collection of code that is stored in class. Classes define, in code, a certain kind of object and methods make changes to or accesses that kind of object. So, we will use the numpy library's routine called linalg to make changes to it by the lstsq method on the object of class numpy array. The general syntax is `library.routine.method()`. This method takes many parameters, including the coefficient matrix (coemat) and the constant matrix (vecmat) This method returns an array of useful data. For our purposes, the answer to the system is put in the first entry of the list. We access and print it on the next line by `sol[0]`. In lists and arrays we count each object starting at 0, which is why we have `sol[0]` written. Finally, we print `Done` to indicate to the user that the program is done, which is purely for the user."
   ]
  },
  {
   "cell_type": "markdown",
   "metadata": {},
   "source": [
    "Here is the code in entirety:"
   ]
  },
  {
   "cell_type": "code",
   "execution_count": null,
   "metadata": {},
   "outputs": [],
   "source": [
    "\"\"\"\n",
    "\"\"\"\n",
    "\n",
    "import numpy as np    #import numpy and call it np\n",
    "\n",
    "#Your coefficients here\n",
    "\n",
    "coemat = np.array([])    #create numpy arrays from input for coefficients\n",
    "vecmat = np.array([])   #and constants\n",
    "\n",
    "print(coemat)    #print coefficient matrix\n",
    "print(vecmat)    #and constants vector\n",
    "\n",
    "sol = np.linalg.lstsq(coemat, vecmat, rcond=None)    #use numpy to solve system\n",
    "print(sol[0])                                        #return the answer to the system"
   ]
  },
  {
   "cell_type": "markdown",
   "metadata": {},
   "source": [
    "Now we know about matrices and the code, lets look at a familiar example to get us acquainted with the code and entering matrices."
   ]
  },
  {
   "cell_type": "markdown",
   "metadata": {},
   "source": [
    "Example 1 - Physics:\n",
    "----------------\n",
    "Let's look at an example of a problem"
   ]
  },
  {
   "cell_type": "code",
   "execution_count": 6,
   "metadata": {},
   "outputs": [
    {
     "name": "stdout",
     "output_type": "stream",
     "text": [
      "[[ 1.    -0.5  ]\n",
      " [ 0.     0.866]]\n",
      "[[  0]\n",
      " [980]]\n",
      "[[ 565.81986143]\n",
      " [1131.63972286]]\n",
      "Done\n"
     ]
    }
   ],
   "source": [
    "import numpy as np #import numpy and call it np\n",
    "\n",
    "coemat = np.array([[1, -.5], [0, .866]])    #create numpy arrays from input for coefficients\n",
    "vecmat = np.array([[0], [980]])             #and constants\n",
    "\n",
    "print(coemat)    #print coefficient matrix\n",
    "print(vecmat)    #and constants vector\n",
    "\n",
    "sol = np.linalg.lstsq(coemat, vecmat, rcond=None)    #use numpy to solve system\n",
    "print(sol[0])                                        #return the answer to the system\n",
    "print(\"Done\")"
   ]
  },
  {
   "cell_type": "markdown",
   "metadata": {},
   "source": [
    "The output should be:\n",
    "```\n",
    "[[ 1.    -0.5  ]\n",
    " [ 0.     0.866]]\n",
    "[[  0]\n",
    " [980]]\n",
    "[[  565.81986143]\n",
    " [ 1131.63972286]]\n",
    "Done\n",
    "```\n",
    "The answer is the array right before `Done` was printed so it is;\n",
    "```\n",
    "[[  565.81986143]\n",
    " [ 1131.63972286]]\n",
    "```\n",
    "The answers of each variables are printed in their repesctive columns so the **force is equal to 565.8199 N** and the **normal force is equal to 1131.6397 N**.\n",
    "\n",
    "Congratulations! You have run your first program. Lets look at another example in Statics.\n",
    "\n",
    "Example 2 - Statics:\n",
    "----------------\n",
    "In statics, one way we can use matrices when we are solving for forces in a structures using the joints method, which you will learn about in more detail later in the year. From *Engineering Mechanics: Statics*, here is problem<sup>2</sup> about a signboard where we are asked to find the force in members BE and BC when the horizontal wind load is 712 lb. Specifically 5/8 of the force is transmitted to the center connection at C and the rest is equally divided between D and B.\n",
    "<img src=\"Statics.jpg\" alt=\"Statics Example\">\n",
    "\n",
    "For learning purposes, let's go through this problem so you can start seeing the process to solve structures by the joints method. You do not need to know how to do these problems yet, but we can practice entering their values into the program.\n",
    "\n",
    "Instead of solving each joint explicitly like you will be taught to do, we can leave the equations unsolved and put the equations in a system which decreases the amount of equations we must solve. First though, we can solve for the $D_x$ and $C_x$ since we are given their values in relation to the full force. We find that $D_x = 133.5lb$, and $C_x = 445lb$. There are also some forces that you can solve very simply (they are the only countering force in a certain direction) and I put in their values explicitly below.\n",
    "\n",
    "From joint D, you get the equations:  \n",
    "$ 133.5 = .4961DE $  \n",
    "$ 0 = .8682DE - CD $\n",
    "\n",
    "From joint C, you get the equation:  \n",
    "$ 0 = CD - BC $\n",
    "\n",
    "&ast; From this joint you also will find CE = 445 T (T symbolizes that the member is in tension)\n",
    "\n",
    "From joint E, you get the equations:  \n",
    "$ 0 = .8682DE + .8682DE - .8682EF $  \n",
    "$ 445 = -.4961DE + .4961BE + .4961EF $\n",
    "\n",
    "&ast; $ .4961 = sin(29.7449) $ or $ cos(60.2551) $ and $ .8682 = cos(29.7449) $ or $ sin(60.2551) $\n",
    "\n",
    "Remember when you enter your equations into a matrix to order your variables and place 0's where necessary. With the member variables in the order DE, CD, BC, BE and EF, here are the coefficient matrix and constant vector:\n",
    "\n",
    "Coefficient matrix:  \n",
    "```\n",
    "[[.4961, 0, 0, 0, 0]\n",
    " [.8682, -1, 0, 0 ,0]\n",
    " [0, 1, -1, 0, 0]\n",
    " [.8682, 0, 0, .8682, -.8682]\n",
    " [-.4961, 0, 0, .4961, .4961]]\n",
    "```\n",
    "Constant vector:  \n",
    "```\n",
    "[[133.5],\n",
    " [0],\n",
    " [0],\n",
    " [0],\n",
    " [445]]\n",
    "```\n",
    "\n",
    "Here is the program again with the last example's matrix entered. Change it so it will solve this example."
   ]
  },
  {
   "cell_type": "code",
   "execution_count": 7,
   "metadata": {},
   "outputs": [
    {
     "name": "stdout",
     "output_type": "stream",
     "text": [
      "[[ 1.    -0.5  ]\n",
      " [ 0.     0.866]]\n",
      "[[  0]\n",
      " [980]]\n",
      "[[ 565.81986143]\n",
      " [1131.63972286]]\n",
      "Done\n"
     ]
    }
   ],
   "source": [
    "import numpy as np\n",
    "\n",
    "coemat = np.array([[1, -.5], [0, .866]])\n",
    "vecmat = np.array([[0], [980]])\n",
    "\n",
    "print(coemat)\n",
    "print(vecmat)\n",
    "\n",
    "sol = np.linalg.lstsq(coemat, vecmat, rcond=None)\n",
    "print(sol[0])\n",
    "print(\"Done\")"
   ]
  },
  {
   "cell_type": "markdown",
   "metadata": {},
   "source": [
    "Here is what you should get for the answer:  \n",
    "```\n",
    "[[269.09897198],\n",
    " [233.63172747],\n",
    " [233.63172747],\n",
    " [448.49828664],\n",
    " [717.59725862]]\n",
    "```\n",
    "\n",
    "or $ DE = 269.0989lb, CD = 233.6317lb, BC = 233.6317lb, BE = 448.4983lb, EF = 717.5972lb, D_x = 133.5lb, C_x = 445lb $ and $ CE = 445lb $\n",
    "\n",
    "Now, here is an example that you can do on your own. You can check to make sure you entered the matrix right by doing it on paper yourself.  \n",
    "  \n",
    "References:\n",
    "------------------\n",
    "<sup>1</sup>Cummings, K. *Understanding Physics 2015 F/PacificU* (15th ed., Wiley, 2015)\n",
    "    \n",
    "<sup>2</sup>Meriam, J. L., et al. *Engineering Mechanics: Statics*. (9th ed., Wiley, 2018).\n",
    "\n",
    "<sup>3</sup>Kreyszig, E. et. al. *Advanced Engineering Mathematics*, 10th ed., John Wiley & Sons, Inc, 2011, p. 256."
   ]
  },
  {
   "cell_type": "code",
   "execution_count": null,
   "metadata": {},
   "outputs": [],
   "source": [
    "\"\"\"\n",
    "Old Code\n",
    "\"\"\"\n",
    "import numpy as np\n",
    "\n",
    "coemat = np.array([[1, -.5], [0, .866]])\n",
    "vecmat = np.array([[0], [980]])\n",
    "\n",
    "print(coemat)\n",
    "print(vecmat)\n",
    "\n",
    "sol = np.linalg.lstsq(coemat, vecmat, rcond=None)\n",
    "print(sol[0])"
   ]
  }
 ],
 "metadata": {
  "kernelspec": {
   "display_name": "Python 3",
   "language": "python",
   "name": "python3"
  },
  "language_info": {
   "codemirror_mode": {
    "name": "ipython",
    "version": 3
   },
   "file_extension": ".py",
   "mimetype": "text/x-python",
   "name": "python",
   "nbconvert_exporter": "python",
   "pygments_lexer": "ipython3",
   "version": "3.7.3"
  }
 },
 "nbformat": 4,
 "nbformat_minor": 2
}
