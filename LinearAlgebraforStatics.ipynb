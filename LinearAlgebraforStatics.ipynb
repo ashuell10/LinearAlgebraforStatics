{
 "cells": [
  {
   "cell_type": "markdown",
   "metadata": {},
   "source": [
    "Welcome to LinearAlgebraforStatics!\n",
    "==============================\n",
    "This is a notebook to learn how to use linear algebra<sup>3</sup> to help solve common problems you see in physics and statics. Linear algebra is a branch of mathematics that allows us to think about linear equations in different ways and is helpful to us, as a physicists and engineers because we can solve for many unknowns at one time through matrices.\n",
    "\n",
    "**Linear Systems with Matrices**\n",
    "---------------------------------------\n",
    "Matrices are a tool in linear algebra that can be used to represent and manipulate systems of linear equations (linear systems). Matrices are collection of numbers that are arranged in arrays, like tables in a rectangular format enclosed by brackets. Specifically, we will use matrices to represent and solve linear systems.\n",
    "\n",
    "Linear Systems must be in this form to solve:  \n",
    "$ x - y + z = 0 $  \n",
    "$ -x + y - z = 0 $  \n",
    "$ 10y + 25z = 90 $  \n",
    "$ 20x + 10y = 80 $  \n",
    "\n",
    "&ast; Notice that the equations are organized with variables with their **coefficients on one side and constants on the other**. A coefficient is the number that come before the variable that multiply that specific variable, for example $10$ in $10y$ and $25$ in $25z$.\n",
    "\n",
    "Let's look at this system represented in a couple of different kinds of matrices:\n",
    "\n",
    "$$\\begin{bmatrix} 1 & -1 & 1 & 0 \\\\ -1 & 1 & -1 & 0 \\\\ 0 & 10 & 25 & 90 \\\\ 20 & 10 & 0 & 80 \\end{bmatrix}$$\n",
    "\n",
    "This first matrix is called an augmented matrix. Augmented matrices contain the **coefficients of the variables for each variable and what the expressions are equal to (the constants)**. The rows hold each equation and columns hold each coefficient. So, the first equation's coefficients and constant $(x - y + z = 0)$ are held in the first row as $(1, -1, 1, 0)$. Additionally, you will notice that the first column holds the x coefficient, the second the y coefficient, and the third the z coefficient and this format is continued for the entirety of the matrix. Further note that the third row begins with a 0 because there is no x variable in that equation. The rows are concluded by a 0, 0, 90 and 80, the constants the expressions are equal to. It is standard that the last column (the right most column) holds the constants.\n",
    "\n",
    "$$\\begin{bmatrix} 1 & -1 & 1 \\\\ -1 & 1 & -1 \\\\ 0 & 10 & 25 \\\\ 20 & 10 & 0 \\end{bmatrix}$$\n",
    "\n",
    "This second matrix is a coefficient matrix of size 4 by 3 (rows by columns). A coefficient matrix is a matrix that **solely holds the coefficients of the variables in the equation**. Notice that the rows hold each equation and columns hold each coefficient again. We also can categorize this matrix by its shape and call it a rectangular matrix.\n",
    "\n",
    "$$\\begin{bmatrix} 0 \\\\ 0 \\\\ 90 \\\\ 80 \\end{bmatrix}$$\n",
    "\n",
    "The third matrix is a special kind of matrix called a vector. We call the matrix a vector because it has a singular row (also can have a singular column instead). Notice that **this matrix is all of the constants separated off the augmented matrix shown earlier**. We will use this technique in our coding as well and will call them \"constant\" vectors for the purposes of this tutorial.\n",
    "\n",
    "In this program, we will only use coefficient matrices and constant vectors because that is what the code requires.\n",
    "\n",
    "Lastly, here is an example of how the above augmented matrix would look in Python:  \n",
    "```\n",
    "[[1, -1, 1 , 0], [-1, 1, -1, 0], [0, 10, 25, 90], [20, 10, 0, 80]]\n",
    "```\n",
    "Each row is confined in brackets `[]` and each row is separated from another row by a comma. The whole matrix is enclosed by its own brackets `[]`. Brackets in python denotes a list and when there is a list inside of another list it is called a nested list. In our code, we will be transforming these nested lists into arrays, so there will be multiple lists of the same length inside arrays (so in tabular form it looks like a uniform rectangle without any sections missing). Arrays are also easier to do arithmetic on compared to lists. We will see how we will use this in our code in the next section.\n",
    "\n",
    "Now, let's learn about the code for the program.\n",
    "\n",
    "**The Code**\n",
    "-------------------\n",
    "We will go through the code line by line so you get basic terminology and understand how the program is structured."
   ]
  },
  {
   "cell_type": "code",
   "execution_count": 21,
   "metadata": {},
   "outputs": [],
   "source": [
    "#Takes coefficient and \"constant\" matrices from a linear system and solves it via the numpy library.\n",
    "\n",
    "#Takes programmer input for the coefficients and constants and saves them to variables to use in the matrix\n",
    "#itself. The programmer will then write the coefficients and constants into the correct order in their\n",
    "#respective order in a regular array which will be \"transformed\" the into numpy arrays by the numpy library.\n",
    "\n",
    "#Finally, it uses the lstsq method from the linalg routine from the numpy library to solve the system. The\n",
    "#program prints each matrix, the answer and Done when the program executes."
   ]
  },
  {
   "cell_type": "markdown",
   "metadata": {},
   "source": [
    "This collection of code are made up entirely of one line comments. Comments are code that is not read by the computer and is solely for the programmer to make a remark about the code. These comments are placed here to help us remember what the program does. This is a good habit to have as a programmer especially when you have a longer program. You will see comments in line with code all throughout the rest of the program."
   ]
  },
  {
   "cell_type": "code",
   "execution_count": null,
   "metadata": {},
   "outputs": [],
   "source": [
    "import numpy as np    #import numpy and call it np"
   ]
  },
  {
   "cell_type": "markdown",
   "metadata": {},
   "source": [
    "This is called an import statement. Python comes with a certain range of knowledge which we can extend by importing libraries. Libraries are a collection of knowledge that we can reference so we do not need to code it ourselves. Libraries are also an easy way that we can share knowledge with other coders. Numpy is a well known library to do scientific computing. We import it `as np` to give it an alias, so in code we do not have to keep typing out numpy in its entirety. After the code, we have another comment. The purpose of an \"in line\" comment is to help remind us of what this specific statement will do. This also is a good habit to have as a programmer especially when you have a larger program."
   ]
  },
  {
   "cell_type": "code",
   "execution_count": null,
   "metadata": {},
   "outputs": [],
   "source": [
    "#Your coefficients here"
   ]
  },
  {
   "cell_type": "markdown",
   "metadata": {},
   "source": [
    "This is where you will place the coefficients you write. For example, when you would like to enter the value of sine or cosine you can use the numpy library to calculate it for you. We will show you how to do that and write assignment statements later. We have an example of an assignment statement in the next section of code."
   ]
  },
  {
   "cell_type": "code",
   "execution_count": null,
   "metadata": {},
   "outputs": [],
   "source": [
    "coemat = np.array([])    #create numpy arrays from input for coefficients\n",
    "vecmat = np.array([])    #and constants"
   ]
  },
  {
   "cell_type": "markdown",
   "metadata": {},
   "source": [
    "These statements are called assignment statements. Here, we are assigning each of our variables, `coemat` and `vecmat` to numpy \"styled\" arrays. In Python, we also initialize variables in assignment statements. `np.array([])` will return, or output an array that will be written by you, the programmer and the code then saves it to its respective variable. The basic format for dot operations is the library and then the routine you would like to access (`library.routine()`). So, in the numpy library there is a routine that creates an array, specifically for this routine from an (existing) array that you will learn how to write."
   ]
  },
  {
   "cell_type": "code",
   "execution_count": 2,
   "metadata": {},
   "outputs": [],
   "source": [
    "print(\"Coemat:\")\n",
    "print(coemat)      #print coefficient matrix\n",
    "print(\"Vecmat:\")\n",
    "print(vecmat)      #and constants vector"
   ]
  },
  {
   "cell_type": "markdown",
   "metadata": {},
   "source": [
    "These are called print statements. The print function comes preinstalled with Python and prints something to the output device (the screen). A function is a collection of code that does something. You will notice that inside of the parentheses you have the pieces of text, or in technical terms, a string, `\"Coemat:\"` and `\"Vecmat:\"` and the variables coemat and vecmat. These conditions inside of the parentheses are called parameters. Parameters are passed in and can be used inside of the function. So, the print function takes in the parameters you gave it (`\"Coemat:\"`, `\"Vecmat:\"`, `coemat` and `vecmat`) and prints them to the screen. These strings and variables are printed for the user's ease."
   ]
  },
  {
   "cell_type": "code",
   "execution_count": null,
   "metadata": {},
   "outputs": [],
   "source": [
    "sol = np.linalg.lstsq(coemat, vecmat, rcond=None)    #use numpy to solve system\n",
    "print(\"The answer is:\")\n",
    "print(sol[0])                                        #print the answer to the system\n",
    "print(\"Done\")                                        #indicates to the user that the program is done"
   ]
  },
  {
   "cell_type": "markdown",
   "metadata": {},
   "source": [
    "The first line is another example of an assignment statement. You will see we access the numpy library again and use a method from linalg called lstsq. So, we will use the numpy library's routine called linalg to make changes to it by the lstsq method on the object of class numpy array. The general syntax is `library.routine.method()`. Lstsq stands for the least squares method and an example of a method buried in a routine from a library. A method is a collection of code that makes changes or refers to an object. The difference between methods and functions is purely in their purpose. Methods deal with objects while functions are more generally a collection of code that does anything. The lstsq method takes many parameters, including `coemat` and `vecmat`. The lstsq method also takes a number of optional parameters which are set to None automatically if not provided. We provided an example of this above when we set `rcond=None`. None in Python is like `null` in other programming languages. This method returns a list of useful data. For our purposes, the answer to the system is put in the first entry of the list. We access and print it on the next line by `sol[0]`. In lists and arrays we count each object starting at 0, which is why we have `sol[0]` written. So, we print to the screen `\"The answer is:\"`, `sol[0]` (the answer) and `Done`."
   ]
  },
  {
   "cell_type": "markdown",
   "metadata": {},
   "source": [
    "Now we know about matrices and the code, lets look at a familiar example to get us acquainted with the code and entering variables and matrices.\n",
    "\n",
    "Example 1 - Physics:\n",
    "----------------\n",
    "Let's look at an example of a problem<sup>1</sup> from Workshop Physics I. We will walk you through this first problem and show you entering everything first:\n",
    "<img src=\"ex1physics.jpg\" alt=\"Physics Example 1\">\n",
    "\n",
    "*Purpose:* The purpose of this problem is to find the acceleration of the system ($a$) and the tension in the string between block A and block B ($T_1$) and between block B and block C ($T_2$).\n",
    "\n",
    "*Given:* We are given the tension in string being pulled on ($T_3 = 65N$) and the mass of each block ($m_A = 12kg$, $m_B = 24kg$, $m_C = 31kg$). We are also told that the floor is horizontal which means it is level and that the floor is frictionless.\n",
    "\n",
    "*Assumptions:* Some things we need to assume are the strings are connected in the center of the blocks to prevent them from tipping over and that the strings will not break or come loose from the blocks. We also assume that tension forces are solely in the x direction.\n",
    "\n",
    "*Solution:* First, we will set up the equations and then we will explain how to enter it into the program. To do this problem, we need to look at the forces on each mass separately and write force equations for each mass in the horizontal direction (which we will call the x direction with positive point to the right). We only need to work with the forces in the x direction because we assume the tension forces are solely in the x direction and we are only interested in how much the blocks accelerate in the x direction.\n",
    "\n",
    "Block A:  \n",
    "Since block A is on the end, in the x direction in its Free Body Diagram (FBD) the block only has the tension force going to the right. We write this force equation:  \n",
    "$(m_A)a = T_1$\n",
    "\n",
    "Block B:  \n",
    "Since block B is in the middle of 2 blocks, in the x direction of its FBD there will be 2 tension forces, one going to the left and one to the right. The force going to the left is $T_1$ and the force going to the right is $T_2$. We write this force equation:  \n",
    "$(m_B)a = T_2 - T_1$\n",
    "\n",
    "Block C:  \n",
    "Since block C is also in the middle of 2 blocks, it will have the same FBD as block b with 2 tension forces going to the left and the right. The force going to the left is $T_2$ and the force going to the right is $T_3$. We write this force equation:  \n",
    "$(m_C)a = T_3 - T_2$\n",
    "\n",
    "Now, we have a system of  \n",
    "$(m_A)a = T_1$  \n",
    "$(m_B)a = T_2 - T_1$  \n",
    "$(m_C)a = T_3 - T_2$   \n",
    "\n",
    "Next, we need to enter the knowns into our systems and rearrange them to we have variables and their coefficients on one side and constants on the other. Here is what we are left with:  \n",
    "$(12kg)a - T_1 = 0$  \n",
    "$(24kg)a + T_1 - T_2 = 0$  \n",
    "$(31kg)a + T_2 = 65N$\n",
    "\n",
    "You could also write this system like this:  \n",
    "$(12kg)a - (1)T_1 + (0)T_2= 0$  \n",
    "$(24kg)a + T_1 + (-1)T_2 = 0$  \n",
    "$(31kg)a + (0)T_1 + (1)T_2 = 65N$\n",
    "\n",
    "This reminds us that there are still coefficients of 1, -1, and 0 that we sometimes don't write. This helps here because this shows us all of the coefficients we must enter.\n",
    "\n",
    "Now, we need to enter the knowns as variables in our code. We have done this for you in a snapshot of the program below:"
   ]
  },
  {
   "cell_type": "code",
   "execution_count": 31,
   "metadata": {},
   "outputs": [],
   "source": [
    "#...\n",
    "\n",
    "import numpy as np    #import numpy and call it np\n",
    "\n",
    "#Your coefficients here\n",
    "m_A = 12 #kg\n",
    "m_B = 24 #kg\n",
    "m_C = 31 #kg\n",
    "T_3 = 65 #N\n",
    "\n",
    "#..."
   ]
  },
  {
   "cell_type": "markdown",
   "metadata": {},
   "source": [
    "Notice that we have entered the units of the knowns as comments. This is helpful if we need to reference our code at a later date.\n",
    "\n",
    "Next, we must enter the coefficients and constants in the correct format into the coemat and vecmat assignment statements. We will enter the coefficients for $a$ in the first column, the coefficients for $T_1$ in the second column and the coefficients for $T_2$ in the third column. We only saved the coefficients in the code if the values needed to be calculated so remember to place ones or negative ones in the other places the variables show up by themselves or 0 if they don't hold value in that equation. See the code below for how do this."
   ]
  },
  {
   "cell_type": "code",
   "execution_count": 32,
   "metadata": {},
   "outputs": [
    {
     "name": "stdout",
     "output_type": "stream",
     "text": [
      "Coemat:\n",
      "[[12 -1  0]\n",
      " [24  1 -1]\n",
      " [31  0  1]]\n",
      "Vecmat:\n",
      "[[ 0]\n",
      " [ 0]\n",
      " [65]]\n"
     ]
    }
   ],
   "source": [
    "#...\n",
    "\n",
    "import numpy as np    #import numpy and call it np\n",
    "\n",
    "#Your coefficients here\n",
    "m_A = 12 #kg\n",
    "m_B = 24 #kg\n",
    "m_C = 31 #kg\n",
    "T_3 = 65 #N\n",
    "\n",
    "coemat = np.array([[m_A, -1, 0], [m_B, 1, -1], [m_C, 0, 1]])  #create numpy arrays from input for coefficients\n",
    "vecmat = np.array([[0], [0], [T_3]])                          #and constants\n",
    "\n",
    "print(\"Coemat:\")\n",
    "print(coemat)      #print coefficient matrix\n",
    "print(\"Vecmat:\")\n",
    "print(vecmat)      #and constants vector\n",
    "\n",
    "#..."
   ]
  },
  {
   "cell_type": "markdown",
   "metadata": {},
   "source": [
    "Now, we have entered all the needed information to solve the system. See the answer in the full code below. If you do not see an output line under the code, click on the end of the code and press shift+enter (that is shift and then enter). This is how you will run code in jupyter notebook."
   ]
  },
  {
   "cell_type": "code",
   "execution_count": 33,
   "metadata": {},
   "outputs": [
    {
     "name": "stdout",
     "output_type": "stream",
     "text": [
      "Coemat:\n",
      "[[12 -1  0]\n",
      " [24  1 -1]\n",
      " [31  0  1]]\n",
      "Vecmat:\n",
      "[[ 0]\n",
      " [ 0]\n",
      " [65]]\n",
      "The answer is:\n",
      "[[ 0.97014925]\n",
      " [11.64179104]\n",
      " [34.92537313]]\n",
      "Done\n"
     ]
    }
   ],
   "source": [
    "#Takes coefficient and \"constant\" matrices from a linear system and solves it via the numpy library.\n",
    "\n",
    "#Takes programmer input for the coefficients and constants and saves them to variables to use in the matrix\n",
    "#itself. The programmer will then write the coefficients and constants into the correct order in their\n",
    "#respective order in a regular array which will be \"transformed\" the into numpy arrays by the numpy library.\n",
    "\n",
    "#Finally, it uses the lstsq method from the linalg routine from the numpy library to solve the system. The\n",
    "#program prints each matrix, the answer and Done when the program executes.\n",
    "\n",
    "import numpy as np    #import numpy and call it np\n",
    "\n",
    "#Your coefficients here\n",
    "m_A = 12 #kg\n",
    "m_B = 24 #kg\n",
    "m_C = 31 #kg\n",
    "T_3 = 65 #N\n",
    "\n",
    "coemat = np.array([[m_A, -1, 0], [m_B, 1, -1], [m_C, 0, 1]])  #create numpy arrays from input for coefficients\n",
    "vecmat = np.array([[0], [0], [T_3]])                          #and constants\n",
    "\n",
    "print(\"Coemat:\")\n",
    "print(coemat)      #print coefficient matrix\n",
    "print(\"Vecmat:\")\n",
    "print(vecmat)      #and constants vector\n",
    "\n",
    "sol = np.linalg.lstsq(coemat, vecmat, rcond=None)    #use numpy to solve system\n",
    "print(\"The answer is:\")\n",
    "print(sol[0])                                        #print the answer to the system\n",
    "print(\"Done\")                                        #indicates to the user that the program is done"
   ]
  },
  {
   "cell_type": "markdown",
   "metadata": {},
   "source": [
    "Notice that the answer is printed in the format of an array. The answers to each variable are printed in the order of the columns of coefficient so $a = 0.97014925m/s^2$, $T_1 = 11.64179104N$, and $T_2 = 34.92537313N$.\n",
    "\n",
    "The magnitude of acceleration makes sense because we are pulling a the equivalent of 10 gallons of paint. The magnitudes of $T_2$ make sense because $T_2$ has to pull $m_B$ and $m_A$, in comparison to $T_1$ that only has to pull $m_A$.\n",
    "\n",
    "Next, we will go through another example that will give you a glimpse on one way you can use this program in Statics I. In this example, we will give you the equations for you to enter. This problem is also a good example of ways that you can use statics in the field."
   ]
  },
  {
   "cell_type": "markdown",
   "metadata": {},
   "source": [
    "Example 2 - Statics:\n",
    "----------------\n",
    "In statics, one way we can use matrices when we are solving for forces in a structures using the joints method, which you will learn about in more detail later in the term. From *Engineering Mechanics: Statics*, here is problem<sup>2</sup> about a signboard:\n",
    "<img src=\"statics.jpg\" alt=\"Statics Example\">\n",
    "\n",
    "*Purpose:* To find the forces in members BE and BC. This is important to know so we can relate it to known breaking point for the material in each beam.\n",
    "\n",
    "*Given:* We are given that the total horizontal wind load is 712 lb. Specifically 5/8 of the force is transmitted to the center connection at C and the rest is equally divided between the points D and B.\n",
    "\n",
    "*Assumptions:* We need to assume that the sign will not move due to the wind load, and this situation is static.\n",
    "\n",
    "*Solution:*  \n",
    "Instead of solving each joint explicitly like you will be taught to do, we can leave the equations unsolved and put the equations in a system which decreases the amount of work we need to put in. First though, we can solve for the $D_x$ and $C_x$, the direct distributed force from the wind, since wthey are simple to find. We find that $D_x = \\frac{(5/8)712lb}{2} = 133.5lb$, and $C_x = (5/8)712lb = 445lb$. There are also some forces that you can solve very simply (they are the only countering force in a certain direction) and I put in their values explicitly below.\n",
    "\n",
    "From joint D, you get the equations:  \n",
    "$ sin(29.7449^{\\circ})DE = 133.5 $  \n",
    "$ cos(29.7449^{\\circ})DE - CD = 0 $\n",
    "\n",
    "From joint C, you get the equation:  \n",
    "$ CD - BC = 0 $\n",
    "\n",
    "From this joint you also will find CE = 445 T (T symbolizes that the member is in tension)\n",
    "\n",
    "From joint E, you get the equations:  \n",
    "$ sin(60.2551^{\\circ})DE + sin(60.2551^{\\circ})BE - cos(29.7449^{\\circ})EF = 0 $  \n",
    "$ -cos(60.2551^{\\circ})DE + cos(60.2551^{\\circ})BE + sin(29.7449^{\\circ})EF = 445 $\n",
    "\n",
    "There is one more thing you need to know for this problem. Numpy has a library to calculate sine and cosine values for you. We have an example below for $sin(29.7449^{\\circ})$ and $cos(29.7449^{\\circ})$. The way to enter pi through the numpy library and multiplication and division signs into the program is below. Note that the numpy takes angles in radians so we first convert degrees to radians which we also can do in code. If you do not see the output, remember to press shift+enter."
   ]
  },
  {
   "cell_type": "code",
   "execution_count": 5,
   "metadata": {},
   "outputs": [
    {
     "name": "stdout",
     "output_type": "stream",
     "text": [
      "sin(29.7449)= 0.49613922177736275\n",
      "cos(29.7449)= 0.8682429801698098\n"
     ]
    }
   ],
   "source": [
    "import numpy as np   #import numpy and call it np\n",
    "\n",
    "#np.pi = pi, np.pi/180 is the conversion from degrees to radians\n",
    "\n",
    "#save the value of sin(29.7449 degrees) to sin29 and print it\n",
    "sin29 = np.sin(29.7449*(np.pi/180))\n",
    "print(\"sin(29.7449)=\", sin29)\n",
    "\n",
    "#save the value of cos(29.7449 degrees) to cos29 and print it\n",
    "cos29 = np.cos(29.7449*(np.pi/180))\n",
    "print(\"cos(29.7449)=\",cos29)"
   ]
  },
  {
   "cell_type": "markdown",
   "metadata": {},
   "source": [
    "Remember when you enter your equations into a matrix to order your variables and place 0's where necessary. I have already ordered the equations for you in the order DE, CD, BC, BE and EF. Write the appropriate assignment statements and coefficient matrix and constant vector. You can name the variables anything you would like but they can not start with a number and can not contain any spaces. In place of a space, you can use an underscore, \\_. Naming your variables something that is short and easy is important since you will have to use them a lot.\n",
    "\n",
    "Here is the program again with the last example's matrix entered. Change the constants and the matrices so it will solve this example. You may copy and paste the statements for $sin(29.7449^{\\circ})$ and $cos(29.7449^{\\circ})$ from the code above. In additional to the sine and cosine statements we wrote for you, the constants you should have to write are $sin(60.2551^{\\circ})$, $cos(60.2551^{\\circ})$, $D_x$ and $C_x$. Then, write in the correct format the coefficient matrix and the constant vector in `coemat` and `vecmat` respectively. Remember to make another list inside of the array with `[]` and separate each number by a comma."
   ]
  },
  {
   "cell_type": "code",
   "execution_count": 25,
   "metadata": {},
   "outputs": [],
   "source": [
    "#Takes coefficient and \"constant\" matrices from a linear system and solves it via the numpy library.\n",
    "\n",
    "#Takes programmer input for the coefficients and constants and saves them to variables to use in the matrix\n",
    "#itself. The programmer will then write the coefficients and constants into the correct order in their\n",
    "#respective order in a regular array which will be \"transformed\" the into numpy arrays by the numpy library.\n",
    "\n",
    "#Finally, it uses the lstsq method from the linalg routine from the numpy library to solve the system. The\n",
    "#program prints each matrix, the answer and Done when the program executes.\n",
    "\n",
    "import numpy as np    #import numpy and call it np\n",
    "\n",
    "#Your coefficients here\n",
    "m_A = 12 #kg\n",
    "m_B = 24 #kg\n",
    "m_C = 31 #kg\n",
    "T_3 = 65 #N\n",
    "\n",
    "coemat = np.array([[m_A, -1, 0], [m_B, 1, -1], [m_C, 0, 1]])  #create numpy arrays from input for coefficients\n",
    "vecmat = np.array([[0], [0], [T_3]])                          #and constants\n",
    "\n",
    "print(\"Coemat:\")\n",
    "print(coemat)      #print coefficient matrix\n",
    "print(\"Vecmat:\")\n",
    "print(vecmat)      #and constants vector\n",
    "\n",
    "sol = np.linalg.lstsq(coemat, vecmat, rcond=None)    #use numpy to solve system\n",
    "print(\"The answer is:\")\n",
    "print(sol[0])                                        #print the answer to the system\n",
    "print(\"Done\")                                        #indicates to the user that the program is done"
   ]
  },
  {
   "cell_type": "markdown",
   "metadata": {},
   "source": [
    "Here is what you should get for the answer:  \n",
    "```\n",
    "[[269.09897198],\n",
    " [233.63172747],\n",
    " [233.63172747],\n",
    " [448.49828664],\n",
    " [717.59725862]]\n",
    "```\n",
    "\n",
    "or $ DE = 269.0989lb$, $CD = 233.6317lb$, $BC = 233.6317lb$, $BE = 448.4983lb$, $EF = 717.5972lb$.\n",
    "\n",
    "The horizontal wind load is equivalent of throwing 60 cans of paint, so if you imagine doing that (and the force is distributed the same way) then it makes sense that $EF$, $BE$, $C_x$ and $CE$ are going to be under the most force since 5/8 of the force is distributed in the center of the sign.\n",
    "\n",
    "Now, here is a problem<sup>1</sup> that you can try on your own.\n",
    "\n",
    "Example 3 - Physics:\n",
    "----------------\n",
    "<img src=\"ex2physics.jpg\" alt=\"Physics Example 2\">\n",
    "The answers and a hint are included after the code for you to check. You can do a-d as a system and then e and f you must solve by hand."
   ]
  },
  {
   "cell_type": "code",
   "execution_count": 1,
   "metadata": {
    "collapsed": true
   },
   "outputs": [
    {
     "name": "stdout",
     "output_type": "stream",
     "text": [
      "Coemat:\n",
      "[]\n",
      "Vecmat:\n",
      "[]\n"
     ]
    },
    {
     "ename": "LinAlgError",
     "evalue": "1-dimensional array given. Array must be two-dimensional",
     "output_type": "error",
     "traceback": [
      "\u001b[0;31m---------------------------------------------------------------------------\u001b[0m",
      "\u001b[0;31mLinAlgError\u001b[0m                               Traceback (most recent call last)",
      "\u001b[0;32m<ipython-input-1-e304a8d020ca>\u001b[0m in \u001b[0;36m<module>\u001b[0;34m\u001b[0m\n\u001b[1;32m     20\u001b[0m \u001b[0mprint\u001b[0m\u001b[0;34m(\u001b[0m\u001b[0mvecmat\u001b[0m\u001b[0;34m)\u001b[0m      \u001b[0;31m#and constants vector\u001b[0m\u001b[0;34m\u001b[0m\u001b[0;34m\u001b[0m\u001b[0m\n\u001b[1;32m     21\u001b[0m \u001b[0;34m\u001b[0m\u001b[0m\n\u001b[0;32m---> 22\u001b[0;31m \u001b[0msol\u001b[0m \u001b[0;34m=\u001b[0m \u001b[0mnp\u001b[0m\u001b[0;34m.\u001b[0m\u001b[0mlinalg\u001b[0m\u001b[0;34m.\u001b[0m\u001b[0mlstsq\u001b[0m\u001b[0;34m(\u001b[0m\u001b[0mcoemat\u001b[0m\u001b[0;34m,\u001b[0m \u001b[0mvecmat\u001b[0m\u001b[0;34m,\u001b[0m \u001b[0mrcond\u001b[0m\u001b[0;34m=\u001b[0m\u001b[0;32mNone\u001b[0m\u001b[0;34m)\u001b[0m    \u001b[0;31m#use numpy to solve system\u001b[0m\u001b[0;34m\u001b[0m\u001b[0;34m\u001b[0m\u001b[0m\n\u001b[0m\u001b[1;32m     23\u001b[0m \u001b[0mprint\u001b[0m\u001b[0;34m(\u001b[0m\u001b[0;34m\"The answer is:\"\u001b[0m\u001b[0;34m)\u001b[0m\u001b[0;34m\u001b[0m\u001b[0;34m\u001b[0m\u001b[0m\n\u001b[1;32m     24\u001b[0m \u001b[0mprint\u001b[0m\u001b[0;34m(\u001b[0m\u001b[0msol\u001b[0m\u001b[0;34m[\u001b[0m\u001b[0;36m0\u001b[0m\u001b[0;34m]\u001b[0m\u001b[0;34m)\u001b[0m                                        \u001b[0;31m#print the answer to the system\u001b[0m\u001b[0;34m\u001b[0m\u001b[0;34m\u001b[0m\u001b[0m\n",
      "\u001b[0;32m/anaconda3/lib/python3.7/site-packages/numpy/linalg/linalg.py\u001b[0m in \u001b[0;36mlstsq\u001b[0;34m(a, b, rcond)\u001b[0m\n\u001b[1;32m   2199\u001b[0m     \u001b[0;32mif\u001b[0m \u001b[0mis_1d\u001b[0m\u001b[0;34m:\u001b[0m\u001b[0;34m\u001b[0m\u001b[0;34m\u001b[0m\u001b[0m\n\u001b[1;32m   2200\u001b[0m         \u001b[0mb\u001b[0m \u001b[0;34m=\u001b[0m \u001b[0mb\u001b[0m\u001b[0;34m[\u001b[0m\u001b[0;34m:\u001b[0m\u001b[0;34m,\u001b[0m \u001b[0mnewaxis\u001b[0m\u001b[0;34m]\u001b[0m\u001b[0;34m\u001b[0m\u001b[0;34m\u001b[0m\u001b[0m\n\u001b[0;32m-> 2201\u001b[0;31m     \u001b[0m_assertRank2\u001b[0m\u001b[0;34m(\u001b[0m\u001b[0ma\u001b[0m\u001b[0;34m,\u001b[0m \u001b[0mb\u001b[0m\u001b[0;34m)\u001b[0m\u001b[0;34m\u001b[0m\u001b[0;34m\u001b[0m\u001b[0m\n\u001b[0m\u001b[1;32m   2202\u001b[0m     \u001b[0mm\u001b[0m\u001b[0;34m,\u001b[0m \u001b[0mn\u001b[0m \u001b[0;34m=\u001b[0m \u001b[0ma\u001b[0m\u001b[0;34m.\u001b[0m\u001b[0mshape\u001b[0m\u001b[0;34m[\u001b[0m\u001b[0;34m-\u001b[0m\u001b[0;36m2\u001b[0m\u001b[0;34m:\u001b[0m\u001b[0;34m]\u001b[0m\u001b[0;34m\u001b[0m\u001b[0;34m\u001b[0m\u001b[0m\n\u001b[1;32m   2203\u001b[0m     \u001b[0mm2\u001b[0m\u001b[0;34m,\u001b[0m \u001b[0mn_rhs\u001b[0m \u001b[0;34m=\u001b[0m \u001b[0mb\u001b[0m\u001b[0;34m.\u001b[0m\u001b[0mshape\u001b[0m\u001b[0;34m[\u001b[0m\u001b[0;34m-\u001b[0m\u001b[0;36m2\u001b[0m\u001b[0;34m:\u001b[0m\u001b[0;34m]\u001b[0m\u001b[0;34m\u001b[0m\u001b[0;34m\u001b[0m\u001b[0m\n",
      "\u001b[0;32m/anaconda3/lib/python3.7/site-packages/numpy/linalg/linalg.py\u001b[0m in \u001b[0;36m_assertRank2\u001b[0;34m(*arrays)\u001b[0m\n\u001b[1;32m    199\u001b[0m         \u001b[0;32mif\u001b[0m \u001b[0ma\u001b[0m\u001b[0;34m.\u001b[0m\u001b[0mndim\u001b[0m \u001b[0;34m!=\u001b[0m \u001b[0;36m2\u001b[0m\u001b[0;34m:\u001b[0m\u001b[0;34m\u001b[0m\u001b[0;34m\u001b[0m\u001b[0m\n\u001b[1;32m    200\u001b[0m             raise LinAlgError('%d-dimensional array given. Array must be '\n\u001b[0;32m--> 201\u001b[0;31m                     'two-dimensional' % a.ndim)\n\u001b[0m\u001b[1;32m    202\u001b[0m \u001b[0;34m\u001b[0m\u001b[0m\n\u001b[1;32m    203\u001b[0m \u001b[0;32mdef\u001b[0m \u001b[0m_assertRankAtLeast2\u001b[0m\u001b[0;34m(\u001b[0m\u001b[0;34m*\u001b[0m\u001b[0marrays\u001b[0m\u001b[0;34m)\u001b[0m\u001b[0;34m:\u001b[0m\u001b[0;34m\u001b[0m\u001b[0;34m\u001b[0m\u001b[0m\n",
      "\u001b[0;31mLinAlgError\u001b[0m: 1-dimensional array given. Array must be two-dimensional"
     ]
    }
   ],
   "source": [
    "#Takes coefficient and \"constant\" matrices from a linear system and solves it via the numpy library.\n",
    "\n",
    "#Takes programmer input for the coefficients and constants and saves them to variables to use in the matrix\n",
    "#itself. The programmer will then write the coefficients and constants into the correct order in their\n",
    "#respective order in a regular array which will be \"transformed\" the into numpy arrays by the numpy library.\n",
    "\n",
    "#Finally, it uses the lstsq method from the linalg routine from the numpy library to solve the system. The\n",
    "#program prints each matrix, the answer and Done when the program executes.\n",
    "\n",
    "import numpy as np    #import numpy and call it np\n",
    "\n",
    "#Your coefficients here\n",
    "\n",
    "coemat = np.array([])  #create numpy arrays from input for coefficients\n",
    "vecmat = np.array([])                          #and constants\n",
    "\n",
    "print(\"Coemat:\")\n",
    "print(coemat)      #print coefficient matrix\n",
    "print(\"Vecmat:\")\n",
    "print(vecmat)      #and constants vector\n",
    "\n",
    "sol = np.linalg.lstsq(coemat, vecmat, rcond=None)    #use numpy to solve system\n",
    "print(\"The answer is:\")\n",
    "print(sol[0])                                        #print the answer to the system\n",
    "print(\"Done\")                                        #indicates to the user that the program is done"
   ]
  },
  {
   "cell_type": "markdown",
   "metadata": {},
   "source": [
    "Hint: This problem is the exact same as the first physics problem but just rotated so you must include the force due to gravity. Go chain link by chain link starting at 1, draw FBDs and write out the force equations for the diagram in the vertical direction. The gravitational force is the same for all force equations.\n",
    "\n",
    "Answers: $a = 1.23N, b = 2.46N, c = 3.69N, d = 4.92N, e = 6.15N, f = .25N$\n",
    "\n",
    "Answers a-d make sense because they are increasing in magnitude as you go up in the chain, since as you go up the chain you must account for more and more chain below it. It makes sense that e is the greatest out of the answers for a-e because that is the force to accelerate all of the chain links. f is very basic newton's second law for one link.\n",
    "\n",
    "References:\n",
    "------------------\n",
    "<sup>1</sup>Cummings, K. *Understanding Physics 2015 F/PacificU* (15th ed., Wiley, 2015)\n",
    "    \n",
    "<sup>2</sup>Meriam, J. L., et al. *Engineering Mechanics: Statics*. (9th ed., Wiley, 2018).\n",
    "\n",
    "<sup>3</sup>Kreyszig, E., et. al. *Advanced Engineering Mathematics*, 10th ed., John Wiley & Sons, Inc, 2011, p. 256."
   ]
  }
 ],
 "metadata": {
  "kernelspec": {
   "display_name": "Python 3",
   "language": "python",
   "name": "python3"
  },
  "language_info": {
   "codemirror_mode": {
    "name": "ipython",
    "version": 3
   },
   "file_extension": ".py",
   "mimetype": "text/x-python",
   "name": "python",
   "nbconvert_exporter": "python",
   "pygments_lexer": "ipython3",
   "version": "3.7.3"
  }
 },
 "nbformat": 4,
 "nbformat_minor": 2
}
